{
 "cells": [
  {
   "cell_type": "code",
   "execution_count": 1,
   "metadata": {},
   "outputs": [],
   "source": [
    "import pandas as pd"
   ]
  },
  {
   "cell_type": "code",
   "execution_count": 5,
   "metadata": {},
   "outputs": [],
   "source": [
    "data = pd.DataFrame({\n",
    "    \n",
    "    \"ranking\": [1,2,3,4],\n",
    "    \"name\": [\"a\",\"b\", \"c\", \"d\"],\n",
    "    \"score\": [1,2,4,5],\n",
    "    \"email\": ['manhpvhe140651@fpt.edu.vn', 'manhpvhe1406511@fpt.edu.vn','manhpvhe14062511@fpt.edu.vn','manhpvhe14065121@fpt.edu.vn']\n",
    "})\n",
    "\n",
    "data.to_csv('score_data.csv')\n",
    "\n",
    "# from src.send import send_multiple_emails"
   ]
  },
  {
   "cell_type": "code",
   "execution_count": 3,
   "metadata": {},
   "outputs": [
    {
     "name": "stderr",
     "output_type": "stream",
     "text": [
      "2023-05-01 16:41:11,203 WARNING  Send to email manhpvhe140651@fpt.edu.vn Successfuly!!!\n",
      "2023-05-01 16:41:14,688 WARNING  Send to email manhpvhe1406511@fpt.edu.vn Successfuly!!!\n",
      "2023-05-01 16:41:18,414 WARNING  Send to email manhpvhe14062511@fpt.edu.vn Successfuly!!!\n",
      "2023-05-01 16:41:22,486 WARNING  Send to email manhpvhe14065121@fpt.edu.vn Successfuly!!!\n"
     ]
    }
   ],
   "source": [
    "from src.send import send_multiple_emails\n",
    "send_multiple_emails(template_location_path = \"table_score_template.html\", data_df=data)"
   ]
  }
 ],
 "metadata": {
  "kernelspec": {
   "display_name": "tabai_env",
   "language": "python",
   "name": "python3"
  },
  "language_info": {
   "codemirror_mode": {
    "name": "ipython",
    "version": 3
   },
   "file_extension": ".py",
   "mimetype": "text/x-python",
   "name": "python",
   "nbconvert_exporter": "python",
   "pygments_lexer": "ipython3",
   "version": "3.8.15"
  },
  "orig_nbformat": 4
 },
 "nbformat": 4,
 "nbformat_minor": 2
}
